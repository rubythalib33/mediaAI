{
 "cells": [
  {
   "cell_type": "code",
   "execution_count": 1,
   "metadata": {},
   "outputs": [],
   "source": [
    "#Shotout to https://dafriedman97.github.io/mlbook/content/c7/construction.html\n",
    "#You can learn more in there, Seriously!!!"
   ]
  },
  {
   "cell_type": "code",
   "execution_count": 2,
   "metadata": {},
   "outputs": [],
   "source": [
    "import numpy as np\n",
    "import matplotlib.pyplot as plt"
   ]
  },
  {
   "cell_type": "code",
   "execution_count": 4,
   "metadata": {},
   "outputs": [],
   "source": [
    "def ReLU(x):\n",
    "    return np.max(0,x)\n",
    "def sigmoid(x):\n",
    "    return 1/(1+np.exp(-x))\n",
    "def linear(x):\n",
    "    return x\n",
    "\n",
    "activation_function = {\n",
    "    \"ReLU\": ReLU,\n",
    "    \"sigmoid\": sigmoid,\n",
    "    \"linear\": linear\n",
    "}"
   ]
  },
  {
   "cell_type": "code",
   "execution_count": 6,
   "metadata": {},
   "outputs": [],
   "source": [
    "class FeedForward:\n",
    "    \n",
    "    def fit(self, X,Y, n_hidden, f1 = 'ReLU', f2 = 'linear', loss='RSS', lr = 1e-5, n_iter=5000, seed=None):\n",
    "        self.X = X\n",
    "        self.Y = Y.reshape(len(Y),-1)\n",
    "        self.N = len(X)\n",
    "        self.D_X = self.X.shape[1]\n",
    "        self.D_Y = self.Y.shape[1]\n",
    "        self.Xt = self.X.T\n",
    "        self.Yt = self.Y.T\n",
    "        self.D_h = n_hidden\n",
    "        self.f1, self.f2 = f1, f2\n",
    "        self.loss = loss\n",
    "        self.lr = lr\n",
    "        self.n_iter = n_iter\n",
    "        self.seed = seed\n",
    "        if seed is not None:\n",
    "            np.random.seed(self.seed)\n",
    "        #initiate weight\n",
    "        self.W1 = np.random.randn(self.D_h, self.D_X)/5\n",
    "        self.b1 = np.random.randn(self.D_h,1)/5\n",
    "        self.W2 = np.random.randn(self.D_Y, self.D_h)/5\n",
    "        self.b2 = np.random.randn(self.D_Y,1)/5\n",
    "        \n",
    "        #initiate output\n",
    "        self.H1 = (self.W1 @ self.Xt) + self.b1\n",
    "        self.Z1 = activation_function[self.f1](self.H1)\n",
    "        self.H2 = (self.W2 @ self.Z1) + self.b2\n",
    "        self.Yhatt = activation_function[self.f2](self.H2)\n",
    "        \n",
    "        #Fit Weights\n",
    "        for i in range(self.n_iter):\n",
    "            #YHat\n",
    "            if self.loss == 'RSS':\n",
    "                self.dL_dYhatt = -(self.Yt - self.Yhatt)\n",
    "            elif self.loss == 'log':\n",
    "                self.dL_dYhatt = (-(self.Yt/self.Yhatt) + (1-self.Yt)/(1-self.Yhatt))\n",
    "            \n",
    "            #H2\n",
    "            if self.f2 == 'linear':\n",
    "                self.dYhatt_dH2 = np.ones((self.D_Y, self.N))\n",
    "            elif self.f2 == 'sigmoid':\n",
    "                self.dYhatt_dH2 = sigmoid(self.H2) * (1 - sigmoid(self.H2))\n",
    "            #b2\n",
    "            self.dL_db2 = np.sum(self.dL_dH2, 1)\n",
    "            \n",
    "            #W2\n",
    "            self.dL_dZ1 = np.tensordot(self.W2, self.dL_dH2, (0,0))\n",
    "            \n",
    "            # H1\n",
    "            if self.f1 == 'ReLU':\n",
    "                self.dL_dH1 = self.dL_dZ1 * np.maximum(self.H1, 0)\n",
    "            elif self.f1 == 'linear':\n",
    "                self.dL_dH1 = self.dL_dZ1\n",
    "            \n",
    "            #b1\n",
    "            self.dL_db1 = np.sum(self.dL_dH1, self.Xt, (1,1))\n",
    "            \n",
    "            #W1\n",
    "            self.dL_dW1 = np.tensordot(self.dL_dH1, self.Xt )\n",
    "            \n",
    "            #Update Weights\n",
    "            self.W1 -= self.lr * self.self.dL_dW1\n",
    "            self.b1 -= self.lr * self.self.dL_db1.reshape(-1,1)\n",
    "            self.W2 -= self.lr * self.self.dL_dW2\n",
    "            self.b2 -= self.lr * self.self.dL_db2.reshape(-1,1)\n",
    "            \n",
    "            #Update outputs\n",
    "            self.H1 = (self.W1 @ self.Xt) + self.b1\n",
    "            self.Z1 = activation_function[self.f1](self.H1)\n",
    "            self.H2 = (self.W2 @ self.Z1) + self.b2\n",
    "            self.Yhatt = activation_function[self.f2](self.H2)\n",
    "    def predict(self, X_test):\n",
    "        X_testt = X_test.T\n",
    "        self.h1 = (self.W1 @ self.Xt) + self.b1\n",
    "        self.z1 = activation_function[self.f1](self.H1)\n",
    "        self.h2 = (self.W2 @ self.Z1) + self.b2\n",
    "        self.Yhatt = activation_function[self.f2](self.H2)\n",
    "        return self.Yhatt"
   ]
  },
  {
   "cell_type": "code",
   "execution_count": null,
   "metadata": {},
   "outputs": [],
   "source": []
  }
 ],
 "metadata": {
  "kernelspec": {
   "display_name": "Python 3",
   "language": "python",
   "name": "python3"
  },
  "language_info": {
   "codemirror_mode": {
    "name": "ipython",
    "version": 3
   },
   "file_extension": ".py",
   "mimetype": "text/x-python",
   "name": "python",
   "nbconvert_exporter": "python",
   "pygments_lexer": "ipython3",
   "version": "3.7.6"
  }
 },
 "nbformat": 4,
 "nbformat_minor": 4
}
