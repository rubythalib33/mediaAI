{
 "cells": [
  {
   "cell_type": "code",
   "execution_count": 1,
   "metadata": {},
   "outputs": [],
   "source": [
    "#Shotout to https://dafriedman97.github.io/mlbook/content/c7/construction.html"
   ]
  },
  {
   "cell_type": "code",
   "execution_count": 2,
   "metadata": {},
   "outputs": [],
   "source": [
    "import numpy as np\n",
    "import matplotlib.pyplot as plt"
   ]
  },
  {
   "cell_type": "code",
   "execution_count": 4,
   "metadata": {},
   "outputs": [],
   "source": [
    "def ReLU(x):\n",
    "    return np.max(0,x)\n",
    "def sigmoid(x):\n",
    "    return 1/(1+np.exp(-x))\n",
    "def linear(x):\n",
    "    return x\n",
    "\n",
    "activation_function = {\n",
    "    \"ReLU\": ReLU,\n",
    "    \"sigmoid\": sigmoid,\n",
    "    \"linear\": linear\n",
    "}"
   ]
  },
  {
   "cell_type": "code",
   "execution_count": null,
   "metadata": {},
   "outputs": [],
   "source": [
    "class FeedForward:\n",
    "    \n",
    "    def fit(self, X,Y, n_hidden, f1 = 'ReLU', f2 = 'linear', loss='RSS', lr = 1e-5, n_iter=5000, seed=None):\n",
    "        self.X = X\n",
    "        self.Y = Y.reshape(len(Y),-1)\n",
    "        self.N = len(X)\n",
    "        self.D_X = self.X.shape[1]\n",
    "        self.D_Y = self.Y.shape[1]\n",
    "        self.Xt = self.X.T\n",
    "        self.Yt = self.Y.T\n",
    "        self.D_h = n_hidden\n",
    "        self.f1, self.f2 = f1, f2\n",
    "        self.loss = loss\n",
    "        self.lr = lr\n",
    "        self.n_iter = n_iter\n",
    "        self.seed = seed\n",
    "        \n",
    "        np.random.seed(self.seed)"
   ]
  }
 ],
 "metadata": {
  "kernelspec": {
   "display_name": "Python 3",
   "language": "python",
   "name": "python3"
  },
  "language_info": {
   "codemirror_mode": {
    "name": "ipython",
    "version": 3
   },
   "file_extension": ".py",
   "mimetype": "text/x-python",
   "name": "python",
   "nbconvert_exporter": "python",
   "pygments_lexer": "ipython3",
   "version": "3.7.6"
  }
 },
 "nbformat": 4,
 "nbformat_minor": 4
}
